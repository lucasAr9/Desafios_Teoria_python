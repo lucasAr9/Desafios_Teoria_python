{
 "cells": [
  {
   "cell_type": "markdown",
   "metadata": {},
   "source": [
    "### Primer desafío del día\n",
    "Vamos a modificar el código anterior para que se imprima la cadena “TIENE R” si la palabra contiene la letra r y sino, imprima “NO TIENE R”"
   ]
  },
  {
   "cell_type": "code",
   "execution_count": null,
   "metadata": {},
   "outputs": [],
   "source": [
    "for i in range(4):\n",
    "    cadena = input(\"Ingresar una palabra\")\n",
    "    print(\"tiene r\" if \"r\" in cadena else \"no tiene\")"
   ]
  },
  {
   "cell_type": "markdown",
   "metadata": {},
   "source": [
    "### Segundo desafío del día\n",
    "* Ingresar palabras desde el teclado hasta ingresar la palabra FIN. Imprimir\n",
    "aquellas que empiecen y terminen con la misma letra.\n",
    "* ¿Qué estructura de control deberíamos utilizar para realizar esta iteración? ¿Podemos utilizar\n",
    "la sentencia for?"
   ]
  },
  {
   "cell_type": "code",
   "execution_count": null,
   "metadata": {},
   "outputs": [],
   "source": [
    "cadenas = []\n",
    "palabra = input(\"Ingresar palabras hasta escribir \\\"FIN\\\"\")\n",
    "\n",
    "while palabra != \"FIN\":\n",
    "    cadenas.append(palabra)\n",
    "    palabra = input(\"Ingresar palabras hasta escribir \\\"FIN\\\"\")\n",
    "\n",
    "for elem in range(len(cadenas)):\n",
    "    if cadenas[elem][0] == cadenas[elem][len(cadenas[elem])-1]:\n",
    "        print(cadenas[elem])"
   ]
  },
  {
   "cell_type": "markdown",
   "metadata": {},
   "source": [
    "### Tercer desafío del día\n",
    "**Necesitamos procesar las notas de los estudiantes de este curso. Queremos saber:**\n",
    "* cuál es el promedio de las notas;\n",
    "* cuántos estudiantes están por debajo del promedio.\n",
    "\n",
    "¿Cómo sería un pseudocódigo de esto?\n",
    "~~~\n",
    "Ingresar las notas\n",
    "Calcular el promedio\n",
    "Calcular cuántos tienen notas menores al promedio\n",
    "~~~\n",
    "¿Cómo obtenemos las notas menores al promedio? ¿Tenemos que ingresar las notas dos veces?\n",
    "Obviamente no. **Necesitamos tipos de datos que nos permitan guardar muchos valores.**"
   ]
  },
  {
   "cell_type": "code",
   "execution_count": null,
   "metadata": {},
   "outputs": [],
   "source": [
    "notas = []\n",
    "ingresar_nota = int(input(\"Ingresar una nota: \"))\n",
    "\n",
    "while ingresar_nota != -1:\n",
    "    notas.append(ingresar_nota)\n",
    "    ingresar_nota = int(input(\"Ingresar una nota: \"))\n",
    "\n",
    "sumar_notas = 0.0\n",
    "for elem in notas:\n",
    "    sumar_notas += elem\n",
    "\n",
    "promedio = sumar_notas / len(notas)\n",
    "\n",
    "debajo_de_prom = 0\n",
    "for elem in notas:\n",
    "    if elem < promedio:\n",
    "        debajo_de_prom += 1\n",
    "\n",
    "print(notas)\n",
    "print(\"El promedio es: \" + str(promedio))\n",
    "print(\"La cantidad que estan debajo del promedio es: \" + str(debajo_de_prom))"
   ]
  },
  {
   "cell_type": "markdown",
   "metadata": {},
   "source": [
    "### Cuarto desafío del día\n",
    "Necesitamos procesar las notas de los estudiantes de este curso. Queremos\n",
    "saber:\n",
    "\n",
    "* cuál es el promedio de las notas,\n",
    "* qué estudiantes están por debajo del promedio.\n",
    "\n",
    "¿Qué diferencia hay con el desafío anterior?\n",
    "\n",
    "* Deberíamos ingresar no sólo las notas, sino también los nombres de los estudiantes.\n",
    "* ¿Qué soluciones proponen?\n",
    "* ¿Qué estructura de datos estoy usando? Hay algo mejor…\n",
    "### ¿Qué les parece esta solución?"
   ]
  },
  {
   "cell_type": "code",
   "execution_count": null,
   "metadata": {},
   "outputs": [],
   "source": [
    "nombre = input(\"Ingresa un nombre (<FIN> para finalizar)\")\n",
    "lista = []\n",
    "while nombre != \"FIN\":\n",
    "    nota = int(input(f\"Ingresa la nota de {nombre}\"))\n",
    "    lista.append((nombre, nota))\n",
    "    nombre = input(\"Ingresa un nombre (<FIN> para finalizar)\")\n",
    "print(lista)\n",
    "\n",
    "# respuesta:\n",
    "# la diferencia es que ahora agregamos el nombre, pero los agrupamos en una\n",
    "# lista de listas, y lo mejor seria como el siguiente tema, usar diccionarios."
   ]
  },
  {
   "cell_type": "markdown",
   "metadata": {},
   "source": [
    "### La función para el primer proceso del desafío\n",
    "* Definición vs. invocación.\n",
    "* ¿Qué pasa si no incluyo el return?\n",
    "* Pueden definir las otras dos funciones para completar el desafio."
   ]
  },
  {
   "cell_type": "code",
   "execution_count": 8,
   "metadata": {},
   "outputs": [
    {
     "ename": "TypeError",
     "evalue": "'<' not supported between instances of 'int' and 'function'",
     "output_type": "error",
     "traceback": [
      "\u001b[1;31m---------------------------------------------------------------------------\u001b[0m",
      "\u001b[1;31mTypeError\u001b[0m                                 Traceback (most recent call last)",
      "\u001b[1;32mC:\\Users\\LUCASA~1\\AppData\\Local\\Temp/ipykernel_8020/3038413885.py\u001b[0m in \u001b[0;36m<module>\u001b[1;34m\u001b[0m\n\u001b[0;32m     30\u001b[0m \u001b[0mnotas_de_estudiantes\u001b[0m \u001b[1;33m=\u001b[0m \u001b[0mingreso_notas\u001b[0m\u001b[1;33m(\u001b[0m\u001b[1;33m)\u001b[0m\u001b[1;33m\u001b[0m\u001b[1;33m\u001b[0m\u001b[0m\n\u001b[0;32m     31\u001b[0m \u001b[0mprom\u001b[0m \u001b[1;33m=\u001b[0m \u001b[0mpromedio\u001b[0m\u001b[1;33m(\u001b[0m\u001b[0mnotas_de_estudiantes\u001b[0m\u001b[1;33m)\u001b[0m\u001b[1;33m\u001b[0m\u001b[1;33m\u001b[0m\u001b[0m\n\u001b[1;32m---> 32\u001b[1;33m \u001b[0mdebajo_prom\u001b[0m \u001b[1;33m=\u001b[0m \u001b[0mdebajo_de_prom\u001b[0m\u001b[1;33m(\u001b[0m\u001b[0mnotas_de_estudiantes\u001b[0m\u001b[1;33m)\u001b[0m\u001b[1;33m\u001b[0m\u001b[1;33m\u001b[0m\u001b[0m\n\u001b[0m\u001b[0;32m     33\u001b[0m \u001b[0mprint\u001b[0m\u001b[1;33m(\u001b[0m\u001b[0mnotas_de_estudiantes\u001b[0m\u001b[1;33m)\u001b[0m\u001b[1;33m\u001b[0m\u001b[1;33m\u001b[0m\u001b[0m\n\u001b[0;32m     34\u001b[0m \u001b[0mprint\u001b[0m\u001b[1;33m(\u001b[0m\u001b[1;34m\"El promedio es: \"\u001b[0m \u001b[1;33m+\u001b[0m \u001b[0mstr\u001b[0m\u001b[1;33m(\u001b[0m\u001b[0mprom\u001b[0m\u001b[1;33m)\u001b[0m\u001b[1;33m)\u001b[0m\u001b[1;33m\u001b[0m\u001b[1;33m\u001b[0m\u001b[0m\n",
      "\u001b[1;32mC:\\Users\\LUCASA~1\\AppData\\Local\\Temp/ipykernel_8020/3038413885.py\u001b[0m in \u001b[0;36mdebajo_de_prom\u001b[1;34m(notas)\u001b[0m\n\u001b[0;32m     23\u001b[0m     \u001b[0mcontar\u001b[0m \u001b[1;33m=\u001b[0m \u001b[1;36m0\u001b[0m\u001b[1;33m\u001b[0m\u001b[1;33m\u001b[0m\u001b[0m\n\u001b[0;32m     24\u001b[0m     \u001b[1;32mfor\u001b[0m \u001b[0melem\u001b[0m \u001b[1;32min\u001b[0m \u001b[0mnotas\u001b[0m\u001b[1;33m:\u001b[0m\u001b[1;33m\u001b[0m\u001b[1;33m\u001b[0m\u001b[0m\n\u001b[1;32m---> 25\u001b[1;33m         \u001b[1;32mif\u001b[0m \u001b[0mnotas\u001b[0m\u001b[1;33m[\u001b[0m\u001b[0melem\u001b[0m\u001b[1;33m]\u001b[0m \u001b[1;33m<\u001b[0m \u001b[0mpromedio\u001b[0m\u001b[1;33m:\u001b[0m\u001b[1;33m\u001b[0m\u001b[1;33m\u001b[0m\u001b[0m\n\u001b[0m\u001b[0;32m     26\u001b[0m             \u001b[0mcontar\u001b[0m \u001b[1;33m+=\u001b[0m \u001b[1;36m1\u001b[0m\u001b[1;33m\u001b[0m\u001b[1;33m\u001b[0m\u001b[0m\n\u001b[0;32m     27\u001b[0m     \u001b[1;32mreturn\u001b[0m \u001b[0mcontar\u001b[0m\u001b[1;33m\u001b[0m\u001b[1;33m\u001b[0m\u001b[0m\n",
      "\u001b[1;31mTypeError\u001b[0m: '<' not supported between instances of 'int' and 'function'"
     ]
    }
   ],
   "source": [
    "def ingreso_notas():\n",
    "    \"\"\"\n",
    "        Esta función retorna un diccionario con los nombres\n",
    "        y notas de estudiantes\n",
    "    \"\"\"\n",
    "    dicci = {}\n",
    "    nombre = input(\"Ingresa un nombre (<FIN> para finalizar)\")\n",
    "    while nombre != \"FIN\":\n",
    "        nota = int(input(f\"Ingresa la nota de {nombre}\"))\n",
    "        dicci[nombre] = nota\n",
    "        nombre = input(\"Ingresa un nombre (<FIN> para finalizar)\")\n",
    "    return dicci\n",
    "\n",
    "\n",
    "def promedio(notas):\n",
    "    sumar_notas = 0.0\n",
    "    for elem in notas:\n",
    "        sumar_notas += notas[elem]\n",
    "    return sumar_notas / len(notas)\n",
    "\n",
    "\n",
    "def debajo_de_prom(notas):\n",
    "    contar = 0\n",
    "    for elem in notas:\n",
    "        if notas[elem] < promedio:\n",
    "            contar += 1\n",
    "    return contar\n",
    "\n",
    "\n",
    "notas_de_estudiantes = ingreso_notas()\n",
    "prom = promedio(notas_de_estudiantes)\n",
    "debajo_prom = debajo_de_prom(notas_de_estudiantes)\n",
    "print(notas_de_estudiantes)\n",
    "print(\"El promedio es: \" + str(prom))\n",
    "print(\"La cantidad que estan debajo del promedio es: \" + str(debajo_prom))\n",
    "\n",
    "# aun no entendi el recorrido de los diccionarios\n",
    "# ese creo que es mi error"
   ]
  }
 ],
 "metadata": {
  "interpreter": {
   "hash": "0f3a9e79989d3fe5622a0e8675e6c85259a99dd002ad72f8bd8e4eef25f2a2e4"
  },
  "kernelspec": {
   "display_name": "Python 3 (ipykernel)",
   "language": "python",
   "name": "python3"
  },
  "language_info": {
   "codemirror_mode": {
    "name": "ipython",
    "version": 3
   },
   "file_extension": ".py",
   "mimetype": "text/x-python",
   "name": "python",
   "nbconvert_exporter": "python",
   "pygments_lexer": "ipython3",
   "version": "3.10.0"
  }
 },
 "nbformat": 4,
 "nbformat_minor": 2
}
