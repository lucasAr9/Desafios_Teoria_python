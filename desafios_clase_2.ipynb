{
 "cells": [
  {
   "cell_type": "markdown",
   "metadata": {},
   "source": [
    "### Primer desafío del día\n",
    "Vamos a modificar el código anterior para que se imprima la cadena “TIENE R” si la palabra contiene la letra r y sino, imprima “NO TIENE R”"
   ]
  },
  {
   "cell_type": "code",
   "execution_count": null,
   "metadata": {},
   "outputs": [],
   "source": [
    "for i in range(4):\n",
    "    cadena = input(\"Ingresar una palabra\")\n",
    "    print(\"tiene r\" if \"r\" in cadena else \"no tiene\")"
   ]
  },
  {
   "cell_type": "markdown",
   "metadata": {},
   "source": [
    "### Segundo desafío del día\n",
    "* Ingresar palabras desde el teclado hasta ingresar la palabra FIN. Imprimir\n",
    "aquellas que empiecen y terminen con la misma letra.\n",
    "* ¿Qué estructura de control deberíamos utilizar para realizar esta iteración? ¿Podemos utilizar\n",
    "la sentencia for?"
   ]
  },
  {
   "cell_type": "code",
   "execution_count": null,
   "metadata": {},
   "outputs": [],
   "source": [
    "cadenas = []\n",
    "palabra = input(\"Ingresar palabras hasta escribir \\\"FIN\\\"\")\n",
    "\n",
    "while palabra != \"FIN\":\n",
    "    cadenas.append(palabra)\n",
    "    palabra = input(\"Ingresar palabras hasta escribir \\\"FIN\\\"\")\n",
    "\n",
    "for elem in range(len(cadenas)):\n",
    "    if cadenas[elem][0] == cadenas[elem][len(cadenas[elem])-1]:\n",
    "        print(cadenas[elem])"
   ]
  }
 ],
 "metadata": {
  "interpreter": {
   "hash": "0f3a9e79989d3fe5622a0e8675e6c85259a99dd002ad72f8bd8e4eef25f2a2e4"
  },
  "kernelspec": {
   "display_name": "Python 3.10.0 64-bit",
   "language": "python",
   "name": "python3"
  },
  "language_info": {
   "codemirror_mode": {
    "name": "ipython",
    "version": 3
   },
   "file_extension": ".py",
   "mimetype": "text/x-python",
   "name": "python",
   "nbconvert_exporter": "python",
   "pygments_lexer": "ipython3",
   "version": "3.10.0"
  },
  "orig_nbformat": 4
 },
 "nbformat": 4,
 "nbformat_minor": 2
}
